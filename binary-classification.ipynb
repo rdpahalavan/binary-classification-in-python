{
  "nbformat": 4,
  "nbformat_minor": 0,
  "metadata": {
    "colab": {
      "name": "Data Science Walmart Main.ipynb",
      "provenance": [],
      "collapsed_sections": []
    },
    "kernelspec": {
      "name": "python3",
      "display_name": "Python 3"
    },
    "language_info": {
      "name": "python"
    }
  },
  "cells": [
    {
      "cell_type": "code",
      "execution_count": null,
      "metadata": {
        "id": "TZHtq8F8ZzK5"
      },
      "outputs": [],
      "source": [
        "import pandas as pd\n",
        "import numpy as np\n",
        "import matplotlib.pyplot as plt\n",
        "import seaborn as sns\n",
        "pd.set_option('display.max_columns', None) "
      ]
    },
    {
      "cell_type": "code",
      "source": [
        "train = pd.read_csv('model.csv')"
      ],
      "metadata": {
        "id": "TSN0SlPra-eG"
      },
      "execution_count": null,
      "outputs": []
    },
    {
      "cell_type": "code",
      "source": [
        "test = pd.read_csv('val.csv')"
      ],
      "metadata": {
        "id": "d5Ya1sD0ei6F"
      },
      "execution_count": null,
      "outputs": []
    },
    {
      "cell_type": "markdown",
      "source": [
        "# EDA"
      ],
      "metadata": {
        "id": "HZ3jdBCmWnmY"
      }
    },
    {
      "cell_type": "code",
      "source": [
        "train.head()"
      ],
      "metadata": {
        "colab": {
          "base_uri": "https://localhost:8080/",
          "height": 270
        },
        "id": "zcj_6vFWGgGw",
        "outputId": "519a6276-5850-4c45-d63e-ce703a2a8f14"
      },
      "execution_count": null,
      "outputs": [
        {
          "output_type": "execute_result",
          "data": {
            "text/html": [
              "\n",
              "  <div id=\"df-81756c58-bd27-4cde-a6f5-c2e5fca81ca6\">\n",
              "    <div class=\"colab-df-container\">\n",
              "      <div>\n",
              "<style scoped>\n",
              "    .dataframe tbody tr th:only-of-type {\n",
              "        vertical-align: middle;\n",
              "    }\n",
              "\n",
              "    .dataframe tbody tr th {\n",
              "        vertical-align: top;\n",
              "    }\n",
              "\n",
              "    .dataframe thead th {\n",
              "        text-align: right;\n",
              "    }\n",
              "</style>\n",
              "<table border=\"1\" class=\"dataframe\">\n",
              "  <thead>\n",
              "    <tr style=\"text-align: right;\">\n",
              "      <th></th>\n",
              "      <th>A1</th>\n",
              "      <th>A2</th>\n",
              "      <th>A3</th>\n",
              "      <th>A4</th>\n",
              "      <th>A5</th>\n",
              "      <th>A6</th>\n",
              "      <th>A7</th>\n",
              "      <th>A8</th>\n",
              "      <th>A9</th>\n",
              "      <th>A10</th>\n",
              "      <th>A11</th>\n",
              "      <th>A12</th>\n",
              "      <th>A13</th>\n",
              "      <th>A14</th>\n",
              "      <th>A15</th>\n",
              "      <th>A16</th>\n",
              "      <th>A17</th>\n",
              "      <th>A18</th>\n",
              "      <th>A19</th>\n",
              "      <th>A20</th>\n",
              "      <th>A21</th>\n",
              "      <th>A22</th>\n",
              "      <th>A23</th>\n",
              "      <th>A24</th>\n",
              "      <th>A25</th>\n",
              "      <th>A26</th>\n",
              "      <th>A27</th>\n",
              "      <th>A28</th>\n",
              "      <th>A29</th>\n",
              "      <th>A30</th>\n",
              "      <th>default</th>\n",
              "    </tr>\n",
              "  </thead>\n",
              "  <tbody>\n",
              "    <tr>\n",
              "      <th>0</th>\n",
              "      <td>10.69</td>\n",
              "      <td>86.10</td>\n",
              "      <td>8920.16</td>\n",
              "      <td>19912.85</td>\n",
              "      <td>30.42</td>\n",
              "      <td>31.72</td>\n",
              "      <td>1.18</td>\n",
              "      <td>145.41</td>\n",
              "      <td>2.236</td>\n",
              "      <td>1.786</td>\n",
              "      <td>84.29</td>\n",
              "      <td>13.46</td>\n",
              "      <td>16.01</td>\n",
              "      <td>52.18</td>\n",
              "      <td>123101.84</td>\n",
              "      <td>0.23</td>\n",
              "      <td>4305.85</td>\n",
              "      <td>0.15</td>\n",
              "      <td>0.09</td>\n",
              "      <td>1.09</td>\n",
              "      <td>10</td>\n",
              "      <td>0.01</td>\n",
              "      <td>0.01</td>\n",
              "      <td>0.01</td>\n",
              "      <td>0.13</td>\n",
              "      <td>0.00</td>\n",
              "      <td>0.00</td>\n",
              "      <td>0.00</td>\n",
              "      <td>0.00</td>\n",
              "      <td>0.00</td>\n",
              "      <td>0</td>\n",
              "    </tr>\n",
              "    <tr>\n",
              "      <th>1</th>\n",
              "      <td>28.50</td>\n",
              "      <td>65.19</td>\n",
              "      <td>6564.00</td>\n",
              "      <td>6716.67</td>\n",
              "      <td>32.50</td>\n",
              "      <td>23.40</td>\n",
              "      <td>2.74</td>\n",
              "      <td>91.11</td>\n",
              "      <td>1.000</td>\n",
              "      <td>1.000</td>\n",
              "      <td>59.80</td>\n",
              "      <td>8.18</td>\n",
              "      <td>29.33</td>\n",
              "      <td>63.55</td>\n",
              "      <td>34275.73</td>\n",
              "      <td>0.80</td>\n",
              "      <td>3616.67</td>\n",
              "      <td>0.78</td>\n",
              "      <td>0.14</td>\n",
              "      <td>1.67</td>\n",
              "      <td>35</td>\n",
              "      <td>0.06</td>\n",
              "      <td>0.01</td>\n",
              "      <td>0.00</td>\n",
              "      <td>0.09</td>\n",
              "      <td>285.80</td>\n",
              "      <td>0.00</td>\n",
              "      <td>16.44</td>\n",
              "      <td>1.98</td>\n",
              "      <td>42.26</td>\n",
              "      <td>0</td>\n",
              "    </tr>\n",
              "    <tr>\n",
              "      <th>2</th>\n",
              "      <td>24.87</td>\n",
              "      <td>73.79</td>\n",
              "      <td>4285.47</td>\n",
              "      <td>6463.75</td>\n",
              "      <td>40.50</td>\n",
              "      <td>51.53</td>\n",
              "      <td>2.84</td>\n",
              "      <td>93.90</td>\n",
              "      <td>2.400</td>\n",
              "      <td>1.400</td>\n",
              "      <td>77.17</td>\n",
              "      <td>10.25</td>\n",
              "      <td>39.92</td>\n",
              "      <td>61.95</td>\n",
              "      <td>84841.79</td>\n",
              "      <td>0.78</td>\n",
              "      <td>2301.54</td>\n",
              "      <td>0.62</td>\n",
              "      <td>0.15</td>\n",
              "      <td>2.80</td>\n",
              "      <td>31</td>\n",
              "      <td>0.08</td>\n",
              "      <td>0.02</td>\n",
              "      <td>0.02</td>\n",
              "      <td>0.44</td>\n",
              "      <td>494.62</td>\n",
              "      <td>135.41</td>\n",
              "      <td>127.45</td>\n",
              "      <td>46.00</td>\n",
              "      <td>14.92</td>\n",
              "      <td>0</td>\n",
              "    </tr>\n",
              "    <tr>\n",
              "      <th>3</th>\n",
              "      <td>13.64</td>\n",
              "      <td>85.82</td>\n",
              "      <td>6887.56</td>\n",
              "      <td>9244.44</td>\n",
              "      <td>49.56</td>\n",
              "      <td>53.44</td>\n",
              "      <td>0.36</td>\n",
              "      <td>171.45</td>\n",
              "      <td>1.875</td>\n",
              "      <td>2.167</td>\n",
              "      <td>95.88</td>\n",
              "      <td>15.38</td>\n",
              "      <td>49.80</td>\n",
              "      <td>67.22</td>\n",
              "      <td>145261.11</td>\n",
              "      <td>0.09</td>\n",
              "      <td>3419.60</td>\n",
              "      <td>0.09</td>\n",
              "      <td>0.00</td>\n",
              "      <td>1.00</td>\n",
              "      <td>29</td>\n",
              "      <td>0.03</td>\n",
              "      <td>0.01</td>\n",
              "      <td>0.00</td>\n",
              "      <td>0.05</td>\n",
              "      <td>1015.19</td>\n",
              "      <td>0.00</td>\n",
              "      <td>210.63</td>\n",
              "      <td>92.58</td>\n",
              "      <td>0.00</td>\n",
              "      <td>0</td>\n",
              "    </tr>\n",
              "    <tr>\n",
              "      <th>4</th>\n",
              "      <td>4.50</td>\n",
              "      <td>95.92</td>\n",
              "      <td>8746.50</td>\n",
              "      <td>19987.50</td>\n",
              "      <td>32.75</td>\n",
              "      <td>37.88</td>\n",
              "      <td>0.92</td>\n",
              "      <td>153.25</td>\n",
              "      <td>2.000</td>\n",
              "      <td>1.500</td>\n",
              "      <td>94.55</td>\n",
              "      <td>11.87</td>\n",
              "      <td>17.43</td>\n",
              "      <td>50.70</td>\n",
              "      <td>120522.80</td>\n",
              "      <td>0.17</td>\n",
              "      <td>3828.57</td>\n",
              "      <td>0.08</td>\n",
              "      <td>0.00</td>\n",
              "      <td>2.69</td>\n",
              "      <td>22</td>\n",
              "      <td>0.01</td>\n",
              "      <td>0.00</td>\n",
              "      <td>0.00</td>\n",
              "      <td>0.04</td>\n",
              "      <td>0.00</td>\n",
              "      <td>106.41</td>\n",
              "      <td>79.00</td>\n",
              "      <td>0.00</td>\n",
              "      <td>0.00</td>\n",
              "      <td>0</td>\n",
              "    </tr>\n",
              "  </tbody>\n",
              "</table>\n",
              "</div>\n",
              "      <button class=\"colab-df-convert\" onclick=\"convertToInteractive('df-81756c58-bd27-4cde-a6f5-c2e5fca81ca6')\"\n",
              "              title=\"Convert this dataframe to an interactive table.\"\n",
              "              style=\"display:none;\">\n",
              "        \n",
              "  <svg xmlns=\"http://www.w3.org/2000/svg\" height=\"24px\"viewBox=\"0 0 24 24\"\n",
              "       width=\"24px\">\n",
              "    <path d=\"M0 0h24v24H0V0z\" fill=\"none\"/>\n",
              "    <path d=\"M18.56 5.44l.94 2.06.94-2.06 2.06-.94-2.06-.94-.94-2.06-.94 2.06-2.06.94zm-11 1L8.5 8.5l.94-2.06 2.06-.94-2.06-.94L8.5 2.5l-.94 2.06-2.06.94zm10 10l.94 2.06.94-2.06 2.06-.94-2.06-.94-.94-2.06-.94 2.06-2.06.94z\"/><path d=\"M17.41 7.96l-1.37-1.37c-.4-.4-.92-.59-1.43-.59-.52 0-1.04.2-1.43.59L10.3 9.45l-7.72 7.72c-.78.78-.78 2.05 0 2.83L4 21.41c.39.39.9.59 1.41.59.51 0 1.02-.2 1.41-.59l7.78-7.78 2.81-2.81c.8-.78.8-2.07 0-2.86zM5.41 20L4 18.59l7.72-7.72 1.47 1.35L5.41 20z\"/>\n",
              "  </svg>\n",
              "      </button>\n",
              "      \n",
              "  <style>\n",
              "    .colab-df-container {\n",
              "      display:flex;\n",
              "      flex-wrap:wrap;\n",
              "      gap: 12px;\n",
              "    }\n",
              "\n",
              "    .colab-df-convert {\n",
              "      background-color: #E8F0FE;\n",
              "      border: none;\n",
              "      border-radius: 50%;\n",
              "      cursor: pointer;\n",
              "      display: none;\n",
              "      fill: #1967D2;\n",
              "      height: 32px;\n",
              "      padding: 0 0 0 0;\n",
              "      width: 32px;\n",
              "    }\n",
              "\n",
              "    .colab-df-convert:hover {\n",
              "      background-color: #E2EBFA;\n",
              "      box-shadow: 0px 1px 2px rgba(60, 64, 67, 0.3), 0px 1px 3px 1px rgba(60, 64, 67, 0.15);\n",
              "      fill: #174EA6;\n",
              "    }\n",
              "\n",
              "    [theme=dark] .colab-df-convert {\n",
              "      background-color: #3B4455;\n",
              "      fill: #D2E3FC;\n",
              "    }\n",
              "\n",
              "    [theme=dark] .colab-df-convert:hover {\n",
              "      background-color: #434B5C;\n",
              "      box-shadow: 0px 1px 3px 1px rgba(0, 0, 0, 0.15);\n",
              "      filter: drop-shadow(0px 1px 2px rgba(0, 0, 0, 0.3));\n",
              "      fill: #FFFFFF;\n",
              "    }\n",
              "  </style>\n",
              "\n",
              "      <script>\n",
              "        const buttonEl =\n",
              "          document.querySelector('#df-81756c58-bd27-4cde-a6f5-c2e5fca81ca6 button.colab-df-convert');\n",
              "        buttonEl.style.display =\n",
              "          google.colab.kernel.accessAllowed ? 'block' : 'none';\n",
              "\n",
              "        async function convertToInteractive(key) {\n",
              "          const element = document.querySelector('#df-81756c58-bd27-4cde-a6f5-c2e5fca81ca6');\n",
              "          const dataTable =\n",
              "            await google.colab.kernel.invokeFunction('convertToInteractive',\n",
              "                                                     [key], {});\n",
              "          if (!dataTable) return;\n",
              "\n",
              "          const docLinkHtml = 'Like what you see? Visit the ' +\n",
              "            '<a target=\"_blank\" href=https://colab.research.google.com/notebooks/data_table.ipynb>data table notebook</a>'\n",
              "            + ' to learn more about interactive tables.';\n",
              "          element.innerHTML = '';\n",
              "          dataTable['output_type'] = 'display_data';\n",
              "          await google.colab.output.renderOutput(dataTable, element);\n",
              "          const docLink = document.createElement('div');\n",
              "          docLink.innerHTML = docLinkHtml;\n",
              "          element.appendChild(docLink);\n",
              "        }\n",
              "      </script>\n",
              "    </div>\n",
              "  </div>\n",
              "  "
            ],
            "text/plain": [
              "      A1     A2       A3        A4     A5     A6    A7      A8     A9    A10  \\\n",
              "0  10.69  86.10  8920.16  19912.85  30.42  31.72  1.18  145.41  2.236  1.786   \n",
              "1  28.50  65.19  6564.00   6716.67  32.50  23.40  2.74   91.11  1.000  1.000   \n",
              "2  24.87  73.79  4285.47   6463.75  40.50  51.53  2.84   93.90  2.400  1.400   \n",
              "3  13.64  85.82  6887.56   9244.44  49.56  53.44  0.36  171.45  1.875  2.167   \n",
              "4   4.50  95.92  8746.50  19987.50  32.75  37.88  0.92  153.25  2.000  1.500   \n",
              "\n",
              "     A11    A12    A13    A14        A15   A16      A17   A18   A19   A20  \\\n",
              "0  84.29  13.46  16.01  52.18  123101.84  0.23  4305.85  0.15  0.09  1.09   \n",
              "1  59.80   8.18  29.33  63.55   34275.73  0.80  3616.67  0.78  0.14  1.67   \n",
              "2  77.17  10.25  39.92  61.95   84841.79  0.78  2301.54  0.62  0.15  2.80   \n",
              "3  95.88  15.38  49.80  67.22  145261.11  0.09  3419.60  0.09  0.00  1.00   \n",
              "4  94.55  11.87  17.43  50.70  120522.80  0.17  3828.57  0.08  0.00  2.69   \n",
              "\n",
              "   A21   A22   A23   A24   A25      A26     A27     A28    A29    A30  default  \n",
              "0   10  0.01  0.01  0.01  0.13     0.00    0.00    0.00   0.00   0.00        0  \n",
              "1   35  0.06  0.01  0.00  0.09   285.80    0.00   16.44   1.98  42.26        0  \n",
              "2   31  0.08  0.02  0.02  0.44   494.62  135.41  127.45  46.00  14.92        0  \n",
              "3   29  0.03  0.01  0.00  0.05  1015.19    0.00  210.63  92.58   0.00        0  \n",
              "4   22  0.01  0.00  0.00  0.04     0.00  106.41   79.00   0.00   0.00        0  "
            ]
          },
          "metadata": {},
          "execution_count": 4
        }
      ]
    },
    {
      "cell_type": "code",
      "source": [
        "train.info()"
      ],
      "metadata": {
        "colab": {
          "base_uri": "https://localhost:8080/"
        },
        "id": "el-F2N5iGjbA",
        "outputId": "2b661f72-6fbd-4b39-fe4d-ea778e604bec"
      },
      "execution_count": null,
      "outputs": [
        {
          "output_type": "stream",
          "name": "stdout",
          "text": [
            "<class 'pandas.core.frame.DataFrame'>\n",
            "RangeIndex: 94000 entries, 0 to 93999\n",
            "Data columns (total 31 columns):\n",
            " #   Column   Non-Null Count  Dtype  \n",
            "---  ------   --------------  -----  \n",
            " 0   A1       94000 non-null  float64\n",
            " 1   A2       94000 non-null  float64\n",
            " 2   A3       94000 non-null  float64\n",
            " 3   A4       94000 non-null  float64\n",
            " 4   A5       94000 non-null  float64\n",
            " 5   A6       94000 non-null  float64\n",
            " 6   A7       94000 non-null  float64\n",
            " 7   A8       94000 non-null  float64\n",
            " 8   A9       94000 non-null  float64\n",
            " 9   A10      94000 non-null  float64\n",
            " 10  A11      94000 non-null  float64\n",
            " 11  A12      94000 non-null  float64\n",
            " 12  A13      94000 non-null  float64\n",
            " 13  A14      94000 non-null  float64\n",
            " 14  A15      94000 non-null  float64\n",
            " 15  A16      94000 non-null  float64\n",
            " 16  A17      94000 non-null  float64\n",
            " 17  A18      94000 non-null  float64\n",
            " 18  A19      94000 non-null  float64\n",
            " 19  A20      94000 non-null  float64\n",
            " 20  A21      94000 non-null  int64  \n",
            " 21  A22      94000 non-null  float64\n",
            " 22  A23      94000 non-null  float64\n",
            " 23  A24      94000 non-null  float64\n",
            " 24  A25      94000 non-null  float64\n",
            " 25  A26      94000 non-null  float64\n",
            " 26  A27      94000 non-null  float64\n",
            " 27  A28      94000 non-null  float64\n",
            " 28  A29      94000 non-null  float64\n",
            " 29  A30      94000 non-null  float64\n",
            " 30  default  94000 non-null  int64  \n",
            "dtypes: float64(29), int64(2)\n",
            "memory usage: 22.2 MB\n"
          ]
        }
      ]
    },
    {
      "cell_type": "code",
      "source": [
        "train.shape"
      ],
      "metadata": {
        "colab": {
          "base_uri": "https://localhost:8080/"
        },
        "id": "hXr2H_bAGlc-",
        "outputId": "0ee3dbde-a45c-41dc-c2cd-fbadad02d087"
      },
      "execution_count": null,
      "outputs": [
        {
          "output_type": "execute_result",
          "data": {
            "text/plain": [
              "(94000, 31)"
            ]
          },
          "metadata": {},
          "execution_count": 6
        }
      ]
    },
    {
      "cell_type": "code",
      "source": [
        "train.describe()"
      ],
      "metadata": {
        "colab": {
          "base_uri": "https://localhost:8080/",
          "height": 364
        },
        "id": "uY5JZHLRGohQ",
        "outputId": "cf29cdb1-47af-4e92-ff16-766afae08170"
      },
      "execution_count": null,
      "outputs": [
        {
          "output_type": "execute_result",
          "data": {
            "text/html": [
              "\n",
              "  <div id=\"df-52a55103-baf5-4c26-89cb-5c411c94bc9e\">\n",
              "    <div class=\"colab-df-container\">\n",
              "      <div>\n",
              "<style scoped>\n",
              "    .dataframe tbody tr th:only-of-type {\n",
              "        vertical-align: middle;\n",
              "    }\n",
              "\n",
              "    .dataframe tbody tr th {\n",
              "        vertical-align: top;\n",
              "    }\n",
              "\n",
              "    .dataframe thead th {\n",
              "        text-align: right;\n",
              "    }\n",
              "</style>\n",
              "<table border=\"1\" class=\"dataframe\">\n",
              "  <thead>\n",
              "    <tr style=\"text-align: right;\">\n",
              "      <th></th>\n",
              "      <th>A1</th>\n",
              "      <th>A2</th>\n",
              "      <th>A3</th>\n",
              "      <th>A4</th>\n",
              "      <th>A5</th>\n",
              "      <th>A6</th>\n",
              "      <th>A7</th>\n",
              "      <th>A8</th>\n",
              "      <th>A9</th>\n",
              "      <th>A10</th>\n",
              "      <th>A11</th>\n",
              "      <th>A12</th>\n",
              "      <th>A13</th>\n",
              "      <th>A14</th>\n",
              "      <th>A15</th>\n",
              "      <th>A16</th>\n",
              "      <th>A17</th>\n",
              "      <th>A18</th>\n",
              "      <th>A19</th>\n",
              "      <th>A20</th>\n",
              "      <th>A21</th>\n",
              "      <th>A22</th>\n",
              "      <th>A23</th>\n",
              "      <th>A24</th>\n",
              "      <th>A25</th>\n",
              "      <th>A26</th>\n",
              "      <th>A27</th>\n",
              "      <th>A28</th>\n",
              "      <th>A29</th>\n",
              "      <th>A30</th>\n",
              "      <th>default</th>\n",
              "    </tr>\n",
              "  </thead>\n",
              "  <tbody>\n",
              "    <tr>\n",
              "      <th>count</th>\n",
              "      <td>94000.000000</td>\n",
              "      <td>94000.000000</td>\n",
              "      <td>94000.000000</td>\n",
              "      <td>94000.000000</td>\n",
              "      <td>94000.000000</td>\n",
              "      <td>94000.000000</td>\n",
              "      <td>94000.000000</td>\n",
              "      <td>94000.000000</td>\n",
              "      <td>94000.000000</td>\n",
              "      <td>94000.000000</td>\n",
              "      <td>94000.000000</td>\n",
              "      <td>94000.000000</td>\n",
              "      <td>94000.000000</td>\n",
              "      <td>94000.000000</td>\n",
              "      <td>9.400000e+04</td>\n",
              "      <td>94000.000000</td>\n",
              "      <td>94000.000000</td>\n",
              "      <td>94000.000000</td>\n",
              "      <td>94000.000000</td>\n",
              "      <td>94000.000000</td>\n",
              "      <td>94000.000000</td>\n",
              "      <td>94000.000000</td>\n",
              "      <td>94000.000000</td>\n",
              "      <td>94000.000000</td>\n",
              "      <td>94000.000000</td>\n",
              "      <td>94000.000000</td>\n",
              "      <td>94000.000000</td>\n",
              "      <td>94000.000000</td>\n",
              "      <td>94000.000000</td>\n",
              "      <td>94000.000000</td>\n",
              "      <td>94000.000000</td>\n",
              "    </tr>\n",
              "    <tr>\n",
              "      <th>mean</th>\n",
              "      <td>12.134211</td>\n",
              "      <td>83.838361</td>\n",
              "      <td>7319.620881</td>\n",
              "      <td>13449.501569</td>\n",
              "      <td>33.507640</td>\n",
              "      <td>36.983300</td>\n",
              "      <td>1.518232</td>\n",
              "      <td>124.108845</td>\n",
              "      <td>1.697824</td>\n",
              "      <td>1.407075</td>\n",
              "      <td>82.561804</td>\n",
              "      <td>11.364377</td>\n",
              "      <td>20.453328</td>\n",
              "      <td>55.172549</td>\n",
              "      <td>1.036205e+05</td>\n",
              "      <td>0.282347</td>\n",
              "      <td>4113.993992</td>\n",
              "      <td>0.190747</td>\n",
              "      <td>0.112162</td>\n",
              "      <td>1.545606</td>\n",
              "      <td>53.707096</td>\n",
              "      <td>0.074435</td>\n",
              "      <td>0.008550</td>\n",
              "      <td>0.013537</td>\n",
              "      <td>0.133531</td>\n",
              "      <td>290.756534</td>\n",
              "      <td>357.976444</td>\n",
              "      <td>103.482568</td>\n",
              "      <td>28.847016</td>\n",
              "      <td>38.509910</td>\n",
              "      <td>0.042553</td>\n",
              "    </tr>\n",
              "    <tr>\n",
              "      <th>std</th>\n",
              "      <td>6.587858</td>\n",
              "      <td>8.672843</td>\n",
              "      <td>2652.539364</td>\n",
              "      <td>8197.452662</td>\n",
              "      <td>11.906865</td>\n",
              "      <td>14.209314</td>\n",
              "      <td>1.007398</td>\n",
              "      <td>33.130292</td>\n",
              "      <td>0.776810</td>\n",
              "      <td>0.652138</td>\n",
              "      <td>10.740732</td>\n",
              "      <td>2.767727</td>\n",
              "      <td>11.671429</td>\n",
              "      <td>12.015331</td>\n",
              "      <td>5.954836e+04</td>\n",
              "      <td>0.252047</td>\n",
              "      <td>1300.549863</td>\n",
              "      <td>0.181137</td>\n",
              "      <td>0.142458</td>\n",
              "      <td>0.627285</td>\n",
              "      <td>56.617973</td>\n",
              "      <td>0.138356</td>\n",
              "      <td>0.020052</td>\n",
              "      <td>0.029078</td>\n",
              "      <td>0.156658</td>\n",
              "      <td>471.958770</td>\n",
              "      <td>597.594147</td>\n",
              "      <td>136.248095</td>\n",
              "      <td>62.759062</td>\n",
              "      <td>90.882963</td>\n",
              "      <td>0.201849</td>\n",
              "    </tr>\n",
              "    <tr>\n",
              "      <th>min</th>\n",
              "      <td>0.000000</td>\n",
              "      <td>20.750000</td>\n",
              "      <td>0.000000</td>\n",
              "      <td>0.000000</td>\n",
              "      <td>0.000000</td>\n",
              "      <td>0.000000</td>\n",
              "      <td>0.000000</td>\n",
              "      <td>0.000000</td>\n",
              "      <td>0.000000</td>\n",
              "      <td>0.000000</td>\n",
              "      <td>0.000000</td>\n",
              "      <td>1.460000</td>\n",
              "      <td>0.000000</td>\n",
              "      <td>0.000000</td>\n",
              "      <td>0.000000e+00</td>\n",
              "      <td>0.000000</td>\n",
              "      <td>0.000000</td>\n",
              "      <td>0.000000</td>\n",
              "      <td>0.000000</td>\n",
              "      <td>0.000000</td>\n",
              "      <td>1.000000</td>\n",
              "      <td>-0.010000</td>\n",
              "      <td>-0.020000</td>\n",
              "      <td>-0.020000</td>\n",
              "      <td>0.000000</td>\n",
              "      <td>-751.260000</td>\n",
              "      <td>-405.370000</td>\n",
              "      <td>-616.230000</td>\n",
              "      <td>-490.160000</td>\n",
              "      <td>-719.720000</td>\n",
              "      <td>0.000000</td>\n",
              "    </tr>\n",
              "    <tr>\n",
              "      <th>25%</th>\n",
              "      <td>7.670000</td>\n",
              "      <td>79.000000</td>\n",
              "      <td>5618.627500</td>\n",
              "      <td>8700.000000</td>\n",
              "      <td>26.880000</td>\n",
              "      <td>28.780000</td>\n",
              "      <td>0.820000</td>\n",
              "      <td>103.027500</td>\n",
              "      <td>1.272000</td>\n",
              "      <td>1.000000</td>\n",
              "      <td>77.270000</td>\n",
              "      <td>9.640000</td>\n",
              "      <td>13.600000</td>\n",
              "      <td>49.070000</td>\n",
              "      <td>6.562992e+04</td>\n",
              "      <td>0.130000</td>\n",
              "      <td>3422.220000</td>\n",
              "      <td>0.080000</td>\n",
              "      <td>0.000000</td>\n",
              "      <td>1.140000</td>\n",
              "      <td>19.000000</td>\n",
              "      <td>0.010000</td>\n",
              "      <td>0.000000</td>\n",
              "      <td>0.000000</td>\n",
              "      <td>0.060000</td>\n",
              "      <td>0.000000</td>\n",
              "      <td>0.000000</td>\n",
              "      <td>14.970000</td>\n",
              "      <td>0.000000</td>\n",
              "      <td>0.000000</td>\n",
              "      <td>0.000000</td>\n",
              "    </tr>\n",
              "    <tr>\n",
              "      <th>50%</th>\n",
              "      <td>12.020000</td>\n",
              "      <td>84.360000</td>\n",
              "      <td>7285.590000</td>\n",
              "      <td>11862.650000</td>\n",
              "      <td>32.770000</td>\n",
              "      <td>35.940000</td>\n",
              "      <td>1.420000</td>\n",
              "      <td>127.240000</td>\n",
              "      <td>1.667000</td>\n",
              "      <td>1.399000</td>\n",
              "      <td>83.340000</td>\n",
              "      <td>11.330000</td>\n",
              "      <td>19.110000</td>\n",
              "      <td>55.190000</td>\n",
              "      <td>9.074253e+04</td>\n",
              "      <td>0.250000</td>\n",
              "      <td>4050.000000</td>\n",
              "      <td>0.170000</td>\n",
              "      <td>0.090000</td>\n",
              "      <td>1.450000</td>\n",
              "      <td>39.000000</td>\n",
              "      <td>0.030000</td>\n",
              "      <td>0.000000</td>\n",
              "      <td>0.010000</td>\n",
              "      <td>0.090000</td>\n",
              "      <td>115.140000</td>\n",
              "      <td>102.265000</td>\n",
              "      <td>59.350000</td>\n",
              "      <td>10.500000</td>\n",
              "      <td>0.000000</td>\n",
              "      <td>0.000000</td>\n",
              "    </tr>\n",
              "    <tr>\n",
              "      <th>75%</th>\n",
              "      <td>16.080000</td>\n",
              "      <td>89.670000</td>\n",
              "      <td>8780.870000</td>\n",
              "      <td>15896.575000</td>\n",
              "      <td>39.100000</td>\n",
              "      <td>43.830000</td>\n",
              "      <td>2.020000</td>\n",
              "      <td>143.100000</td>\n",
              "      <td>2.064000</td>\n",
              "      <td>1.714000</td>\n",
              "      <td>89.010000</td>\n",
              "      <td>12.790000</td>\n",
              "      <td>25.170000</td>\n",
              "      <td>61.810000</td>\n",
              "      <td>1.282739e+05</td>\n",
              "      <td>0.360000</td>\n",
              "      <td>4668.192500</td>\n",
              "      <td>0.250000</td>\n",
              "      <td>0.140000</td>\n",
              "      <td>1.860000</td>\n",
              "      <td>69.000000</td>\n",
              "      <td>0.080000</td>\n",
              "      <td>0.010000</td>\n",
              "      <td>0.010000</td>\n",
              "      <td>0.140000</td>\n",
              "      <td>380.142500</td>\n",
              "      <td>485.880000</td>\n",
              "      <td>140.952500</td>\n",
              "      <td>34.860000</td>\n",
              "      <td>49.862500</td>\n",
              "      <td>0.000000</td>\n",
              "    </tr>\n",
              "    <tr>\n",
              "      <th>max</th>\n",
              "      <td>62.710000</td>\n",
              "      <td>100.000000</td>\n",
              "      <td>26333.500000</td>\n",
              "      <td>170300.000000</td>\n",
              "      <td>146.000000</td>\n",
              "      <td>146.000000</td>\n",
              "      <td>18.670000</td>\n",
              "      <td>524.000000</td>\n",
              "      <td>44.000000</td>\n",
              "      <td>44.000000</td>\n",
              "      <td>100.000000</td>\n",
              "      <td>35.430000</td>\n",
              "      <td>237.000000</td>\n",
              "      <td>146.000000</td>\n",
              "      <td>1.079286e+06</td>\n",
              "      <td>7.000000</td>\n",
              "      <td>20000.000000</td>\n",
              "      <td>3.250000</td>\n",
              "      <td>5.000000</td>\n",
              "      <td>8.100000</td>\n",
              "      <td>1902.000000</td>\n",
              "      <td>5.300000</td>\n",
              "      <td>0.700000</td>\n",
              "      <td>1.690000</td>\n",
              "      <td>4.080000</td>\n",
              "      <td>15288.660000</td>\n",
              "      <td>19503.760000</td>\n",
              "      <td>3265.980000</td>\n",
              "      <td>6561.930000</td>\n",
              "      <td>13487.000000</td>\n",
              "      <td>1.000000</td>\n",
              "    </tr>\n",
              "  </tbody>\n",
              "</table>\n",
              "</div>\n",
              "      <button class=\"colab-df-convert\" onclick=\"convertToInteractive('df-52a55103-baf5-4c26-89cb-5c411c94bc9e')\"\n",
              "              title=\"Convert this dataframe to an interactive table.\"\n",
              "              style=\"display:none;\">\n",
              "        \n",
              "  <svg xmlns=\"http://www.w3.org/2000/svg\" height=\"24px\"viewBox=\"0 0 24 24\"\n",
              "       width=\"24px\">\n",
              "    <path d=\"M0 0h24v24H0V0z\" fill=\"none\"/>\n",
              "    <path d=\"M18.56 5.44l.94 2.06.94-2.06 2.06-.94-2.06-.94-.94-2.06-.94 2.06-2.06.94zm-11 1L8.5 8.5l.94-2.06 2.06-.94-2.06-.94L8.5 2.5l-.94 2.06-2.06.94zm10 10l.94 2.06.94-2.06 2.06-.94-2.06-.94-.94-2.06-.94 2.06-2.06.94z\"/><path d=\"M17.41 7.96l-1.37-1.37c-.4-.4-.92-.59-1.43-.59-.52 0-1.04.2-1.43.59L10.3 9.45l-7.72 7.72c-.78.78-.78 2.05 0 2.83L4 21.41c.39.39.9.59 1.41.59.51 0 1.02-.2 1.41-.59l7.78-7.78 2.81-2.81c.8-.78.8-2.07 0-2.86zM5.41 20L4 18.59l7.72-7.72 1.47 1.35L5.41 20z\"/>\n",
              "  </svg>\n",
              "      </button>\n",
              "      \n",
              "  <style>\n",
              "    .colab-df-container {\n",
              "      display:flex;\n",
              "      flex-wrap:wrap;\n",
              "      gap: 12px;\n",
              "    }\n",
              "\n",
              "    .colab-df-convert {\n",
              "      background-color: #E8F0FE;\n",
              "      border: none;\n",
              "      border-radius: 50%;\n",
              "      cursor: pointer;\n",
              "      display: none;\n",
              "      fill: #1967D2;\n",
              "      height: 32px;\n",
              "      padding: 0 0 0 0;\n",
              "      width: 32px;\n",
              "    }\n",
              "\n",
              "    .colab-df-convert:hover {\n",
              "      background-color: #E2EBFA;\n",
              "      box-shadow: 0px 1px 2px rgba(60, 64, 67, 0.3), 0px 1px 3px 1px rgba(60, 64, 67, 0.15);\n",
              "      fill: #174EA6;\n",
              "    }\n",
              "\n",
              "    [theme=dark] .colab-df-convert {\n",
              "      background-color: #3B4455;\n",
              "      fill: #D2E3FC;\n",
              "    }\n",
              "\n",
              "    [theme=dark] .colab-df-convert:hover {\n",
              "      background-color: #434B5C;\n",
              "      box-shadow: 0px 1px 3px 1px rgba(0, 0, 0, 0.15);\n",
              "      filter: drop-shadow(0px 1px 2px rgba(0, 0, 0, 0.3));\n",
              "      fill: #FFFFFF;\n",
              "    }\n",
              "  </style>\n",
              "\n",
              "      <script>\n",
              "        const buttonEl =\n",
              "          document.querySelector('#df-52a55103-baf5-4c26-89cb-5c411c94bc9e button.colab-df-convert');\n",
              "        buttonEl.style.display =\n",
              "          google.colab.kernel.accessAllowed ? 'block' : 'none';\n",
              "\n",
              "        async function convertToInteractive(key) {\n",
              "          const element = document.querySelector('#df-52a55103-baf5-4c26-89cb-5c411c94bc9e');\n",
              "          const dataTable =\n",
              "            await google.colab.kernel.invokeFunction('convertToInteractive',\n",
              "                                                     [key], {});\n",
              "          if (!dataTable) return;\n",
              "\n",
              "          const docLinkHtml = 'Like what you see? Visit the ' +\n",
              "            '<a target=\"_blank\" href=https://colab.research.google.com/notebooks/data_table.ipynb>data table notebook</a>'\n",
              "            + ' to learn more about interactive tables.';\n",
              "          element.innerHTML = '';\n",
              "          dataTable['output_type'] = 'display_data';\n",
              "          await google.colab.output.renderOutput(dataTable, element);\n",
              "          const docLink = document.createElement('div');\n",
              "          docLink.innerHTML = docLinkHtml;\n",
              "          element.appendChild(docLink);\n",
              "        }\n",
              "      </script>\n",
              "    </div>\n",
              "  </div>\n",
              "  "
            ],
            "text/plain": [
              "                 A1            A2            A3             A4            A5  \\\n",
              "count  94000.000000  94000.000000  94000.000000   94000.000000  94000.000000   \n",
              "mean      12.134211     83.838361   7319.620881   13449.501569     33.507640   \n",
              "std        6.587858      8.672843   2652.539364    8197.452662     11.906865   \n",
              "min        0.000000     20.750000      0.000000       0.000000      0.000000   \n",
              "25%        7.670000     79.000000   5618.627500    8700.000000     26.880000   \n",
              "50%       12.020000     84.360000   7285.590000   11862.650000     32.770000   \n",
              "75%       16.080000     89.670000   8780.870000   15896.575000     39.100000   \n",
              "max       62.710000    100.000000  26333.500000  170300.000000    146.000000   \n",
              "\n",
              "                 A6            A7            A8            A9           A10  \\\n",
              "count  94000.000000  94000.000000  94000.000000  94000.000000  94000.000000   \n",
              "mean      36.983300      1.518232    124.108845      1.697824      1.407075   \n",
              "std       14.209314      1.007398     33.130292      0.776810      0.652138   \n",
              "min        0.000000      0.000000      0.000000      0.000000      0.000000   \n",
              "25%       28.780000      0.820000    103.027500      1.272000      1.000000   \n",
              "50%       35.940000      1.420000    127.240000      1.667000      1.399000   \n",
              "75%       43.830000      2.020000    143.100000      2.064000      1.714000   \n",
              "max      146.000000     18.670000    524.000000     44.000000     44.000000   \n",
              "\n",
              "                A11           A12           A13           A14           A15  \\\n",
              "count  94000.000000  94000.000000  94000.000000  94000.000000  9.400000e+04   \n",
              "mean      82.561804     11.364377     20.453328     55.172549  1.036205e+05   \n",
              "std       10.740732      2.767727     11.671429     12.015331  5.954836e+04   \n",
              "min        0.000000      1.460000      0.000000      0.000000  0.000000e+00   \n",
              "25%       77.270000      9.640000     13.600000     49.070000  6.562992e+04   \n",
              "50%       83.340000     11.330000     19.110000     55.190000  9.074253e+04   \n",
              "75%       89.010000     12.790000     25.170000     61.810000  1.282739e+05   \n",
              "max      100.000000     35.430000    237.000000    146.000000  1.079286e+06   \n",
              "\n",
              "                A16           A17           A18           A19           A20  \\\n",
              "count  94000.000000  94000.000000  94000.000000  94000.000000  94000.000000   \n",
              "mean       0.282347   4113.993992      0.190747      0.112162      1.545606   \n",
              "std        0.252047   1300.549863      0.181137      0.142458      0.627285   \n",
              "min        0.000000      0.000000      0.000000      0.000000      0.000000   \n",
              "25%        0.130000   3422.220000      0.080000      0.000000      1.140000   \n",
              "50%        0.250000   4050.000000      0.170000      0.090000      1.450000   \n",
              "75%        0.360000   4668.192500      0.250000      0.140000      1.860000   \n",
              "max        7.000000  20000.000000      3.250000      5.000000      8.100000   \n",
              "\n",
              "                A21           A22           A23           A24           A25  \\\n",
              "count  94000.000000  94000.000000  94000.000000  94000.000000  94000.000000   \n",
              "mean      53.707096      0.074435      0.008550      0.013537      0.133531   \n",
              "std       56.617973      0.138356      0.020052      0.029078      0.156658   \n",
              "min        1.000000     -0.010000     -0.020000     -0.020000      0.000000   \n",
              "25%       19.000000      0.010000      0.000000      0.000000      0.060000   \n",
              "50%       39.000000      0.030000      0.000000      0.010000      0.090000   \n",
              "75%       69.000000      0.080000      0.010000      0.010000      0.140000   \n",
              "max     1902.000000      5.300000      0.700000      1.690000      4.080000   \n",
              "\n",
              "                A26           A27           A28           A29           A30  \\\n",
              "count  94000.000000  94000.000000  94000.000000  94000.000000  94000.000000   \n",
              "mean     290.756534    357.976444    103.482568     28.847016     38.509910   \n",
              "std      471.958770    597.594147    136.248095     62.759062     90.882963   \n",
              "min     -751.260000   -405.370000   -616.230000   -490.160000   -719.720000   \n",
              "25%        0.000000      0.000000     14.970000      0.000000      0.000000   \n",
              "50%      115.140000    102.265000     59.350000     10.500000      0.000000   \n",
              "75%      380.142500    485.880000    140.952500     34.860000     49.862500   \n",
              "max    15288.660000  19503.760000   3265.980000   6561.930000  13487.000000   \n",
              "\n",
              "            default  \n",
              "count  94000.000000  \n",
              "mean       0.042553  \n",
              "std        0.201849  \n",
              "min        0.000000  \n",
              "25%        0.000000  \n",
              "50%        0.000000  \n",
              "75%        0.000000  \n",
              "max        1.000000  "
            ]
          },
          "metadata": {},
          "execution_count": 7
        }
      ]
    },
    {
      "cell_type": "code",
      "source": [
        "train.isna().sum()"
      ],
      "metadata": {
        "colab": {
          "base_uri": "https://localhost:8080/"
        },
        "id": "PItroZXuGvPB",
        "outputId": "e4ce42de-464e-4067-db59-c8b9044db951"
      },
      "execution_count": null,
      "outputs": [
        {
          "output_type": "execute_result",
          "data": {
            "text/plain": [
              "A1         0\n",
              "A2         0\n",
              "A3         0\n",
              "A4         0\n",
              "A5         0\n",
              "A6         0\n",
              "A7         0\n",
              "A8         0\n",
              "A9         0\n",
              "A10        0\n",
              "A11        0\n",
              "A12        0\n",
              "A13        0\n",
              "A14        0\n",
              "A15        0\n",
              "A16        0\n",
              "A17        0\n",
              "A18        0\n",
              "A19        0\n",
              "A20        0\n",
              "A21        0\n",
              "A22        0\n",
              "A23        0\n",
              "A24        0\n",
              "A25        0\n",
              "A26        0\n",
              "A27        0\n",
              "A28        0\n",
              "A29        0\n",
              "A30        0\n",
              "default    0\n",
              "dtype: int64"
            ]
          },
          "metadata": {},
          "execution_count": 8
        }
      ]
    },
    {
      "cell_type": "code",
      "source": [
        "train.default.value_counts(normalize=True)"
      ],
      "metadata": {
        "colab": {
          "base_uri": "https://localhost:8080/"
        },
        "id": "xKxOnxH71uP3",
        "outputId": "5954ddae-385b-455a-ce16-dacbde7142cf"
      },
      "execution_count": null,
      "outputs": [
        {
          "output_type": "execute_result",
          "data": {
            "text/plain": [
              "0    0.957447\n",
              "1    0.042553\n",
              "Name: default, dtype: float64"
            ]
          },
          "metadata": {},
          "execution_count": 9
        }
      ]
    },
    {
      "cell_type": "code",
      "source": [
        "test.default.value_counts()"
      ],
      "metadata": {
        "colab": {
          "base_uri": "https://localhost:8080/"
        },
        "id": "GBRntFlQDAME",
        "outputId": "59060c8e-3fc6-4507-ffaf-febaeff0d382"
      },
      "execution_count": null,
      "outputs": [
        {
          "output_type": "execute_result",
          "data": {
            "text/plain": [
              "0    10000\n",
              "1     1500\n",
              "Name: default, dtype: int64"
            ]
          },
          "metadata": {},
          "execution_count": 68
        }
      ]
    },
    {
      "cell_type": "code",
      "source": [
        "X_train = train.drop('default', axis=1)\n",
        "y_train = train[['default']]\n",
        "\n",
        "X_test = test.drop('default', axis=1)\n",
        "y_test = test[['default']]"
      ],
      "metadata": {
        "id": "9MVu3J_25XuH"
      },
      "execution_count": null,
      "outputs": []
    },
    {
      "cell_type": "markdown",
      "source": [
        "# Correlation Analysis"
      ],
      "metadata": {
        "id": "zvW8dJWAfyDe"
      }
    },
    {
      "cell_type": "code",
      "source": [
        "correlation_matrix = X_train.corr()"
      ],
      "metadata": {
        "id": "HQQq_qqTknId"
      },
      "execution_count": null,
      "outputs": []
    },
    {
      "cell_type": "code",
      "source": [
        "correlated_features = []\n",
        "for i in range(len(correlation_matrix.columns)):\n",
        "    for j in range(i):\n",
        "        if abs(correlation_matrix.iloc[i, j]) > 0.6:\n",
        "            colname = correlation_matrix.columns[i]\n",
        "            correlated_features.append(colname)"
      ],
      "metadata": {
        "id": "o_7cRLDsjJKo"
      },
      "execution_count": null,
      "outputs": []
    },
    {
      "cell_type": "code",
      "source": [
        "correlated_features = list(set(correlated_features))"
      ],
      "metadata": {
        "id": "17CzHThMkXPT"
      },
      "execution_count": null,
      "outputs": []
    },
    {
      "cell_type": "code",
      "source": [
        "correlated_features"
      ],
      "metadata": {
        "colab": {
          "base_uri": "https://localhost:8080/"
        },
        "id": "WYmyM7bklbg5",
        "outputId": "79b4f6be-1b6d-4524-b345-463829c6d4b8"
      },
      "execution_count": null,
      "outputs": [
        {
          "output_type": "execute_result",
          "data": {
            "text/plain": [
              "['A6',\n",
              " 'A25',\n",
              " 'A4',\n",
              " 'A11',\n",
              " 'A18',\n",
              " 'A7',\n",
              " 'A14',\n",
              " 'A13',\n",
              " 'A10',\n",
              " 'A19',\n",
              " 'A2',\n",
              " 'A12',\n",
              " 'A24']"
            ]
          },
          "metadata": {},
          "execution_count": 14
        }
      ]
    },
    {
      "cell_type": "code",
      "source": [
        "X_train = X_train.drop(correlated_features, axis=1)"
      ],
      "metadata": {
        "id": "QmEZz91sl_1n"
      },
      "execution_count": null,
      "outputs": []
    },
    {
      "cell_type": "code",
      "source": [
        "X_test = X_test.drop(correlated_features, axis=1)"
      ],
      "metadata": {
        "id": "f0GnAHuUmtBi"
      },
      "execution_count": null,
      "outputs": []
    },
    {
      "cell_type": "markdown",
      "source": [
        "# Balance Data"
      ],
      "metadata": {
        "id": "G5N1rw75Iu9B"
      }
    },
    {
      "cell_type": "code",
      "source": [
        "from imblearn.under_sampling import RandomUnderSampler"
      ],
      "metadata": {
        "id": "WgoFaCPcTP8j"
      },
      "execution_count": null,
      "outputs": []
    },
    {
      "cell_type": "code",
      "source": [
        "sampler = RandomUnderSampler()\n",
        "X_train, y_train = sampler.fit_resample(X_train, y_train)"
      ],
      "metadata": {
        "id": "EmjYniaZItcs"
      },
      "execution_count": null,
      "outputs": []
    },
    {
      "cell_type": "code",
      "source": [
        "X_train.shape"
      ],
      "metadata": {
        "colab": {
          "base_uri": "https://localhost:8080/"
        },
        "id": "keCxbtijIx2K",
        "outputId": "33959cb7-aae7-4b2a-a524-7c30fe157bd1"
      },
      "execution_count": null,
      "outputs": [
        {
          "output_type": "execute_result",
          "data": {
            "text/plain": [
              "(8000, 17)"
            ]
          },
          "metadata": {},
          "execution_count": 19
        }
      ]
    },
    {
      "cell_type": "markdown",
      "source": [
        "# Standardize Data"
      ],
      "metadata": {
        "id": "1a_aQ_C_nrxt"
      }
    },
    {
      "cell_type": "code",
      "source": [
        "from sklearn.preprocessing import StandardScaler"
      ],
      "metadata": {
        "id": "he7w15CCnu8t"
      },
      "execution_count": null,
      "outputs": []
    },
    {
      "cell_type": "code",
      "source": [
        "scaler = StandardScaler()"
      ],
      "metadata": {
        "id": "Ud3GRlNlpVtl"
      },
      "execution_count": null,
      "outputs": []
    },
    {
      "cell_type": "code",
      "source": [
        "scaler.fit(X_train)"
      ],
      "metadata": {
        "colab": {
          "base_uri": "https://localhost:8080/"
        },
        "id": "v3L4U_EcpsAO",
        "outputId": "0371af09-f555-4910-886a-c537524c58c1"
      },
      "execution_count": null,
      "outputs": [
        {
          "output_type": "execute_result",
          "data": {
            "text/plain": [
              "StandardScaler()"
            ]
          },
          "metadata": {},
          "execution_count": 22
        }
      ]
    },
    {
      "cell_type": "code",
      "source": [
        "X_train = pd.DataFrame(scaler.transform(X_train))"
      ],
      "metadata": {
        "id": "E793_m8cp0Kf"
      },
      "execution_count": null,
      "outputs": []
    },
    {
      "cell_type": "code",
      "source": [
        "X_test = pd.DataFrame(scaler.transform(X_test))"
      ],
      "metadata": {
        "id": "hsuc4t8_qwbn"
      },
      "execution_count": null,
      "outputs": []
    },
    {
      "cell_type": "markdown",
      "source": [
        "# Logistic Regression"
      ],
      "metadata": {
        "id": "zdrNpIaefqmj"
      }
    },
    {
      "cell_type": "code",
      "source": [
        "from sklearn.linear_model import LogisticRegression\n",
        "from sklearn.model_selection import GridSearchCV\n",
        "from sklearn.metrics import accuracy_score, classification_report, roc_auc_score, confusion_matrix, roc_curve, precision_score, recall_score, f1_score"
      ],
      "metadata": {
        "id": "MrvQ7iBdb7Ay"
      },
      "execution_count": null,
      "outputs": []
    },
    {
      "cell_type": "markdown",
      "source": [
        "# Hyperparameter Tuning using GridSearch"
      ],
      "metadata": {
        "id": "1dhDC-P8JMzq"
      }
    },
    {
      "cell_type": "code",
      "source": [
        "# model = LogisticRegression()\n",
        "\n",
        "# parameter_grid = {'C': np.logspace(-5, 5, 100), 'class_weight': ['none', 'balanced'], 'max_iter': [20, 50, 100, 200, 500, 1000], 'penalty': ['l1', 'l2', 'elasticnet', 'none'], 'solver': ['newton-cg', 'lbfgs', 'liblinear', 'sag', 'saga']}\n",
        "\n",
        "# log_mod = GridSearchCV(model, param_grid = parameter_grid, cv = 5, scoring='roc_auc', n_jobs=-1)\n",
        "\n",
        "# grid_result = log_mod.fit(X_train,y_train.values.ravel())\n",
        "\n",
        "# log_mod.best_params_"
      ],
      "metadata": {
        "id": "myqfpeux-zR9"
      },
      "execution_count": null,
      "outputs": []
    },
    {
      "cell_type": "code",
      "source": [
        "# {'C': 0.04328761281083057,\n",
        "#  'class_weight': 'none',\n",
        "#  'max_iter': 200,\n",
        "#  'penalty': 'l1',\n",
        "#  'solver': 'saga'}"
      ],
      "metadata": {
        "id": "fvW0uwz5_Oru"
      },
      "execution_count": null,
      "outputs": []
    },
    {
      "cell_type": "markdown",
      "source": [
        "# Model Building"
      ],
      "metadata": {
        "id": "OvPr6XhjJbt1"
      }
    },
    {
      "cell_type": "code",
      "source": [
        "model = LogisticRegression(C=0.04, solver='saga', penalty='l1', max_iter=200)"
      ],
      "metadata": {
        "id": "jDSGnQhhcCiD"
      },
      "execution_count": null,
      "outputs": []
    },
    {
      "cell_type": "code",
      "source": [
        "model.fit(X_train,y_train.values.ravel())"
      ],
      "metadata": {
        "colab": {
          "base_uri": "https://localhost:8080/"
        },
        "id": "OMaGNGnDcIty",
        "outputId": "33f97552-d01c-444c-86f3-33ff8ab5d55e"
      },
      "execution_count": null,
      "outputs": [
        {
          "output_type": "execute_result",
          "data": {
            "text/plain": [
              "LogisticRegression(C=0.04, max_iter=200, penalty='l1', solver='saga')"
            ]
          },
          "metadata": {},
          "execution_count": 29
        }
      ]
    },
    {
      "cell_type": "code",
      "source": [
        "y_pred_prob = model.predict_proba(X_test)"
      ],
      "metadata": {
        "id": "ZFTnd_B7AaPe"
      },
      "execution_count": null,
      "outputs": []
    },
    {
      "cell_type": "code",
      "source": [
        "y_pred_prob"
      ],
      "metadata": {
        "colab": {
          "base_uri": "https://localhost:8080/"
        },
        "id": "WaDhOlgiAg4k",
        "outputId": "7d9d310f-1cc0-4a2f-cd44-d103ce6d2eb8"
      },
      "execution_count": null,
      "outputs": [
        {
          "output_type": "execute_result",
          "data": {
            "text/plain": [
              "array([[0.2063277 , 0.7936723 ],\n",
              "       [0.5483354 , 0.4516646 ],\n",
              "       [0.19723559, 0.80276441],\n",
              "       ...,\n",
              "       [0.2790963 , 0.7209037 ],\n",
              "       [0.27768992, 0.72231008],\n",
              "       [0.35551556, 0.64448444]])"
            ]
          },
          "metadata": {},
          "execution_count": 31
        }
      ]
    },
    {
      "cell_type": "code",
      "source": [
        "threshold = np.linspace(0.1, 0.9, 100)\n",
        "roc_scores = []\n",
        "for i in threshold:\n",
        "  preds = np.where(y_pred_prob[:,1] > i, 1, 0)\n",
        "  score = roc_auc_score(y_test, preds)\n",
        "  roc_scores.append(score)"
      ],
      "metadata": {
        "id": "3YKWDk5fAp-2"
      },
      "execution_count": null,
      "outputs": []
    },
    {
      "cell_type": "code",
      "source": [
        "plt.plot(np.linspace(0.1, 0.9, 100), roc_scores)\n",
        "plt.show()"
      ],
      "metadata": {
        "colab": {
          "base_uri": "https://localhost:8080/",
          "height": 265
        },
        "id": "zRVOnmtLDRTq",
        "outputId": "8127c5ac-3fde-4b15-8d7b-eebc94e491ac"
      },
      "execution_count": null,
      "outputs": [
        {
          "output_type": "display_data",
          "data": {
            "image/png": "[encoded data removed]",
            "text/plain": [
              "<Figure size 432x288 with 1 Axes>"
            ]
          },
          "metadata": {
            "needs_background": "light"
          }
        }
      ]
    },
    {
      "cell_type": "code",
      "source": [
        "y_pred = np.where(y_pred_prob[:,1] > threshold[roc_scores.index(max(roc_scores))], 1, 0)"
      ],
      "metadata": {
        "id": "G4W53VskF8VE"
      },
      "execution_count": null,
      "outputs": []
    },
    {
      "cell_type": "markdown",
      "source": [
        "# Model Evaluation"
      ],
      "metadata": {
        "id": "dIRrt2ZDJgYk"
      }
    },
    {
      "cell_type": "code",
      "source": [
        "y_test.value_counts()"
      ],
      "metadata": {
        "colab": {
          "base_uri": "https://localhost:8080/"
        },
        "id": "kNrAhlHPNlvn",
        "outputId": "a5a4b745-2f44-4e06-c0d2-b6cba4601e92"
      },
      "execution_count": null,
      "outputs": [
        {
          "output_type": "execute_result",
          "data": {
            "text/plain": [
              "default\n",
              "0          10000\n",
              "1           1500\n",
              "dtype: int64"
            ]
          },
          "metadata": {},
          "execution_count": 35
        }
      ]
    },
    {
      "cell_type": "code",
      "source": [
        "accuracy_score(y_test, y_pred)"
      ],
      "metadata": {
        "colab": {
          "base_uri": "https://localhost:8080/"
        },
        "id": "BhRZtlbj6NEA",
        "outputId": "d7bb4b22-a355-45e1-8537-0176f1be8378"
      },
      "execution_count": null,
      "outputs": [
        {
          "output_type": "execute_result",
          "data": {
            "text/plain": [
              "0.7958260869565218"
            ]
          },
          "metadata": {},
          "execution_count": 36
        }
      ]
    },
    {
      "cell_type": "code",
      "source": [
        "print(classification_report(y_test, y_pred))"
      ],
      "metadata": {
        "colab": {
          "base_uri": "https://localhost:8080/"
        },
        "id": "0uL_rYSd9EjI",
        "outputId": "0e4a090f-6766-4f6a-966f-85982497fa02"
      },
      "execution_count": null,
      "outputs": [
        {
          "output_type": "stream",
          "name": "stdout",
          "text": [
            "              precision    recall  f1-score   support\n",
            "\n",
            "           0       0.95      0.81      0.87     10000\n",
            "           1       0.35      0.69      0.47      1500\n",
            "\n",
            "    accuracy                           0.80     11500\n",
            "   macro avg       0.65      0.75      0.67     11500\n",
            "weighted avg       0.87      0.80      0.82     11500\n",
            "\n"
          ]
        }
      ]
    },
    {
      "cell_type": "code",
      "source": [
        "conf_mat = confusion_matrix(y_test, y_pred)"
      ],
      "metadata": {
        "id": "hn2iR1hfNLcu"
      },
      "execution_count": null,
      "outputs": []
    },
    {
      "cell_type": "code",
      "source": [
        "class_names=[0, 1]\n",
        "fig, ax = plt.subplots(figsize=(7, 6))\n",
        "sns.heatmap(pd.DataFrame(conf_mat), annot=True, cmap=\"YlGnBu\", fmt='g')\n",
        "ax.xaxis.set_label_position(\"top\")\n",
        "plt.tight_layout()\n",
        "plt.title('Confusion matrix')\n",
        "plt.ylabel('Actual label')\n",
        "plt.xlabel('Predicted label')\n",
        "tick_marks = [0.5, 1.5]\n",
        "plt.xticks(tick_marks, class_names)\n",
        "plt.yticks(tick_marks, class_names)\n",
        "plt.show()"
      ],
      "metadata": {
        "colab": {
          "base_uri": "https://localhost:8080/",
          "height": 469
        },
        "id": "cuYPJH33Nxs9",
        "outputId": "fad63a12-5488-44cf-cdd4-736d48c35cfa"
      },
      "execution_count": null,
      "outputs": [
        {
          "output_type": "display_data",
          "data": {
            "image/png": "[encoded data removed]",
            "text/plain": [
              "<Figure size 504x432 with 2 Axes>"
            ]
          },
          "metadata": {
            "needs_background": "light"
          }
        }
      ]
    },
    {
      "cell_type": "code",
      "source": [
        "p1 = precision_score(y_test, y_pred)\n",
        "r1 = recall_score(y_test, y_pred)\n",
        "a1 = accuracy_score(y_test, y_pred)\n",
        "f1 = f1_score(y_test, y_pred)\n",
        "c1 = roc_auc_score(y_test, y_pred)"
      ],
      "metadata": {
        "id": "7_dbdfyZpPBo"
      },
      "execution_count": null,
      "outputs": []
    },
    {
      "cell_type": "code",
      "source": [
        "fpr, tpr, _ = roc_curve(y_test, y_pred_prob[:,1])"
      ],
      "metadata": {
        "id": "i0ht8u4BO_j-"
      },
      "execution_count": null,
      "outputs": []
    },
    {
      "cell_type": "code",
      "source": [
        "plt.figure()\n",
        "lw = 2\n",
        "plt.plot(\n",
        "    fpr,\n",
        "    tpr,\n",
        "    color=\"darkorange\",\n",
        "    lw=lw,\n",
        "    label=\"ROC curve (area = %0.4f)\" % roc_auc_score(y_test, y_pred),\n",
        ")\n",
        "plt.plot([0, 1], [0, 1], color=\"navy\", lw=lw, linestyle=\"--\")\n",
        "plt.xlim([0.0, 1.0])\n",
        "plt.ylim([0.0, 1.05])\n",
        "plt.xlabel(\"False Positive Rate\")\n",
        "plt.ylabel(\"True Positive Rate\")\n",
        "plt.title(\"Receiver operating characteristic example\")\n",
        "plt.legend(loc=\"lower right\")\n",
        "plt.show()"
      ],
      "metadata": {
        "colab": {
          "base_uri": "https://localhost:8080/",
          "height": 295
        },
        "id": "74rEF5PLP405",
        "outputId": "e320e4b6-851c-4d8c-a060-db9f46de3860"
      },
      "execution_count": null,
      "outputs": [
        {
          "output_type": "display_data",
          "data": {
            "image/png": "[encoded data removed]",
            "text/plain": [
              "<Figure size 432x288 with 1 Axes>"
            ]
          },
          "metadata": {
            "needs_background": "light"
          }
        }
      ]
    },
    {
      "cell_type": "code",
      "source": [
        "print('AUC: ', roc_auc_score(y_test, y_pred))"
      ],
      "metadata": {
        "colab": {
          "base_uri": "https://localhost:8080/"
        },
        "id": "TS4RsGrJiW5N",
        "outputId": "ecec6128-b170-4aaf-9f6e-7a61db0c05ed"
      },
      "execution_count": null,
      "outputs": [
        {
          "output_type": "stream",
          "name": "stdout",
          "text": [
            "AUC:  0.7502833333333334\n"
          ]
        }
      ]
    },
    {
      "cell_type": "markdown",
      "source": [
        "# Save results to CSV file"
      ],
      "metadata": {
        "id": "88cIQ13nUf0-"
      }
    },
    {
      "cell_type": "code",
      "source": [
        "df = pd.DataFrame(y_pred_prob[:,1])"
      ],
      "metadata": {
        "id": "fKEaMppuUw86"
      },
      "execution_count": null,
      "outputs": []
    },
    {
      "cell_type": "code",
      "source": [
        "df.to_csv('result1.csv', index=False, header=False)"
      ],
      "metadata": {
        "id": "cse5CpFlUe7L"
      },
      "execution_count": null,
      "outputs": []
    },
    {
      "cell_type": "markdown",
      "source": [
        "# Random Forest"
      ],
      "metadata": {
        "id": "e_vYUuzuwQFQ"
      }
    },
    {
      "cell_type": "code",
      "source": [
        "from sklearn.ensemble import RandomForestClassifier"
      ],
      "metadata": {
        "id": "fkTtCD1EwUSq"
      },
      "execution_count": null,
      "outputs": []
    },
    {
      "cell_type": "markdown",
      "source": [
        "# Hyperparameter Tuning using GridSearch"
      ],
      "metadata": {
        "id": "oVX1AbulicLX"
      }
    },
    {
      "cell_type": "code",
      "source": [
        "# parameter_grid = {'n_estimators': [50,100, 200, 500], 'max_depth': [5,10,20,50], 'min_samples_split': [1,2,5,10], 'min_samples_leaf': [1,2,4], 'bootstrap': [True, False], 'max_features': ['auto', 'sqrt']}"
      ],
      "metadata": {
        "id": "aQnJacJ_idUS"
      },
      "execution_count": null,
      "outputs": []
    },
    {
      "cell_type": "code",
      "source": [
        "# model = RandomForestClassifier()\n",
        "\n",
        "# ran_mod = GridSearchCV(model, param_grid = parameter_grid, cv = 5, scoring='roc_auc', n_jobs=-1)\n",
        "\n",
        "# grid_result = ran_mod.fit(X_train,y_train.values.ravel())\n",
        "\n",
        "# ran_mod.best_params_"
      ],
      "metadata": {
        "id": "REvQXLN_igpW"
      },
      "execution_count": null,
      "outputs": []
    },
    {
      "cell_type": "code",
      "source": [
        "# {'bootstrap': True,\n",
        "#  'max_depth': 10,\n",
        "#  'max_features': 'auto',\n",
        "#  'min_samples_leaf': 5,\n",
        "#  'min_samples_split': 10,\n",
        "#  'n_estimators': 500}"
      ],
      "metadata": {
        "id": "OprNcLCEi74g"
      },
      "execution_count": null,
      "outputs": []
    },
    {
      "cell_type": "markdown",
      "source": [
        "# Model Building"
      ],
      "metadata": {
        "id": "e7E6X8JVeQUA"
      }
    },
    {
      "cell_type": "code",
      "source": [
        "model = RandomForestClassifier(max_depth=10, n_estimators=500, min_samples_split=10, min_samples_leaf=5)"
      ],
      "metadata": {
        "id": "Ufis3d9zwtGz"
      },
      "execution_count": null,
      "outputs": []
    },
    {
      "cell_type": "code",
      "source": [
        "model.fit(X_train, y_train.values.ravel())"
      ],
      "metadata": {
        "colab": {
          "base_uri": "https://localhost:8080/"
        },
        "id": "jDFiwNHtxAmD",
        "outputId": "88f0cdc3-8398-4aff-d2fc-6fcab31969c8"
      },
      "execution_count": null,
      "outputs": [
        {
          "output_type": "execute_result",
          "data": {
            "text/plain": [
              "RandomForestClassifier(max_depth=10, min_samples_leaf=5, min_samples_split=10,\n",
              "                       n_estimators=500)"
            ]
          },
          "metadata": {},
          "execution_count": 51
        }
      ]
    },
    {
      "cell_type": "code",
      "source": [
        "y_pred_prob = model.predict_proba(X_test)"
      ],
      "metadata": {
        "id": "6VsYWx2Qejbr"
      },
      "execution_count": null,
      "outputs": []
    },
    {
      "cell_type": "code",
      "source": [
        "threshold = np.linspace(0.1, 0.9, 100)\n",
        "roc_scores = []\n",
        "for i in threshold:\n",
        "  preds = np.where(y_pred_prob[:,1] > i, 1, 0)\n",
        "  score = roc_auc_score(y_test, preds)\n",
        "  roc_scores.append(score)"
      ],
      "metadata": {
        "id": "xSVswUp8eong"
      },
      "execution_count": null,
      "outputs": []
    },
    {
      "cell_type": "code",
      "source": [
        "plt.plot(np.linspace(0.1, 0.9, 100), roc_scores)\n",
        "plt.show()"
      ],
      "metadata": {
        "colab": {
          "base_uri": "https://localhost:8080/",
          "height": 265
        },
        "id": "7mZxLe0Oes4w",
        "outputId": "d4945176-1a3b-4b4f-9542-bb6005c6a6d5"
      },
      "execution_count": null,
      "outputs": [
        {
          "output_type": "display_data",
          "data": {
            "image/png": "[encoded data removed]",
            "text/plain": [
              "<Figure size 432x288 with 1 Axes>"
            ]
          },
          "metadata": {
            "needs_background": "light"
          }
        }
      ]
    },
    {
      "cell_type": "code",
      "source": [
        "y_pred = np.where(y_pred_prob[:,1] > threshold[roc_scores.index(max(roc_scores))], 1, 0)"
      ],
      "metadata": {
        "id": "2SLKb5aKetZ7"
      },
      "execution_count": null,
      "outputs": []
    },
    {
      "cell_type": "markdown",
      "source": [
        "# Model Evaluation"
      ],
      "metadata": {
        "id": "x8Mg0TCLeUuD"
      }
    },
    {
      "cell_type": "code",
      "source": [
        "accuracy_score(y_test, y_pred)"
      ],
      "metadata": {
        "colab": {
          "base_uri": "https://localhost:8080/"
        },
        "id": "0FWuI3R67vbl",
        "outputId": "ad3b724d-727a-4ea2-976f-b6f742939884"
      },
      "execution_count": null,
      "outputs": [
        {
          "output_type": "execute_result",
          "data": {
            "text/plain": [
              "0.8177391304347826"
            ]
          },
          "metadata": {},
          "execution_count": 56
        }
      ]
    },
    {
      "cell_type": "code",
      "source": [
        "print(classification_report(y_test, y_pred))"
      ],
      "metadata": {
        "colab": {
          "base_uri": "https://localhost:8080/"
        },
        "id": "E0r7C5y_P5NP",
        "outputId": "c4bef105-ae46-4f56-e645-187008f29da4"
      },
      "execution_count": null,
      "outputs": [
        {
          "output_type": "stream",
          "name": "stdout",
          "text": [
            "              precision    recall  f1-score   support\n",
            "\n",
            "           0       0.95      0.84      0.89     10000\n",
            "           1       0.39      0.68      0.49      1500\n",
            "\n",
            "    accuracy                           0.82     11500\n",
            "   macro avg       0.67      0.76      0.69     11500\n",
            "weighted avg       0.87      0.82      0.84     11500\n",
            "\n"
          ]
        }
      ]
    },
    {
      "cell_type": "code",
      "source": [
        "conf_mat = confusion_matrix(y_test, y_pred)"
      ],
      "metadata": {
        "id": "7vAjpz4ZdDRm"
      },
      "execution_count": null,
      "outputs": []
    },
    {
      "cell_type": "code",
      "source": [
        "class_names=[0, 1]\n",
        "fig, ax = plt.subplots(figsize=(7, 6))\n",
        "sns.heatmap(pd.DataFrame(conf_mat), annot=True, cmap=\"YlGnBu\", fmt='g')\n",
        "ax.xaxis.set_label_position(\"top\")\n",
        "plt.tight_layout()\n",
        "plt.title('Confusion matrix')\n",
        "plt.ylabel('Actual label')\n",
        "plt.xlabel('Predicted label')\n",
        "tick_marks = [0.5, 1.5]\n",
        "plt.xticks(tick_marks, class_names)\n",
        "plt.yticks(tick_marks, class_names)\n",
        "plt.show()"
      ],
      "metadata": {
        "colab": {
          "base_uri": "https://localhost:8080/",
          "height": 469
        },
        "id": "klvEwaksdFsN",
        "outputId": "cb7fe251-efd5-44d5-8d7f-aa66510fe094"
      },
      "execution_count": null,
      "outputs": [
        {
          "output_type": "display_data",
          "data": {
            "image/png": "[encoded data removed]",
            "text/plain": [
              "<Figure size 504x432 with 2 Axes>"
            ]
          },
          "metadata": {
            "needs_background": "light"
          }
        }
      ]
    },
    {
      "cell_type": "code",
      "source": [
        "p2 = precision_score(y_test, y_pred)\n",
        "r2 = recall_score(y_test, y_pred)\n",
        "a2 = accuracy_score(y_test, y_pred)\n",
        "f2 = f1_score(y_test, y_pred)\n",
        "c2 = roc_auc_score(y_test, y_pred)"
      ],
      "metadata": {
        "id": "BCZ3H_7ip63C"
      },
      "execution_count": null,
      "outputs": []
    },
    {
      "cell_type": "code",
      "source": [
        "fpr, tpr, _ = roc_curve(y_test, y_pred_prob[:,1])"
      ],
      "metadata": {
        "id": "IIsPahD3dH5c"
      },
      "execution_count": null,
      "outputs": []
    },
    {
      "cell_type": "code",
      "source": [
        "plt.figure()\n",
        "lw = 2\n",
        "plt.plot(\n",
        "    fpr,\n",
        "    tpr,\n",
        "    color=\"darkorange\",\n",
        "    lw=lw,\n",
        "    label=\"ROC curve (area = %0.4f)\" % roc_auc_score(y_test, y_pred),\n",
        ")\n",
        "plt.plot([0, 1], [0, 1], color=\"navy\", lw=lw, linestyle=\"--\")\n",
        "plt.xlim([0.0, 1.0])\n",
        "plt.ylim([0.0, 1.05])\n",
        "plt.xlabel(\"False Positive Rate\")\n",
        "plt.ylabel(\"True Positive Rate\")\n",
        "plt.title(\"Receiver operating characteristic example\")\n",
        "plt.legend(loc=\"lower right\")\n",
        "plt.show()"
      ],
      "metadata": {
        "colab": {
          "base_uri": "https://localhost:8080/",
          "height": 295
        },
        "id": "Y5WepwZCdJq1",
        "outputId": "fa112fbd-b247-4241-f9b4-0cbda877a5c4"
      },
      "execution_count": null,
      "outputs": [
        {
          "output_type": "display_data",
          "data": {
            "image/png": "[encoded data removed]",
            "text/plain": [
              "<Figure size 432x288 with 1 Axes>"
            ]
          },
          "metadata": {
            "needs_background": "light"
          }
        }
      ]
    },
    {
      "cell_type": "code",
      "source": [
        "print('AUC: ', roc_auc_score(y_test, y_pred))"
      ],
      "metadata": {
        "colab": {
          "base_uri": "https://localhost:8080/"
        },
        "id": "2wi_W-4fiTli",
        "outputId": "3377cbd9-a7f7-462d-febb-7d9eaf647021"
      },
      "execution_count": null,
      "outputs": [
        {
          "output_type": "stream",
          "name": "stdout",
          "text": [
            "AUC:  0.76005\n"
          ]
        }
      ]
    },
    {
      "cell_type": "markdown",
      "source": [
        "# Performance Summary"
      ],
      "metadata": {
        "id": "xpFgTcs-oWc4"
      }
    },
    {
      "cell_type": "code",
      "source": [
        "summary = np.array([c1,c2,a1,a2,f1,f2,r1,r2,p1,p2]).reshape(-1,2)"
      ],
      "metadata": {
        "id": "78n_BU8kp_33"
      },
      "execution_count": null,
      "outputs": []
    },
    {
      "cell_type": "code",
      "source": [
        "fig, ax = plt.subplots(figsize=(10, 10))\n",
        "index= ['AUC Score', 'Accuracy', 'F1 Score', 'Recall', 'Precision']\n",
        "cols = ['Logistic Regression', 'Random Forest']\n",
        "df = pd.DataFrame(summary, index=index, columns=cols)\n",
        "sns.heatmap(df, annot=True, cmap=\"YlGnBu\", fmt='g')\n",
        "plt.show()"
      ],
      "metadata": {
        "colab": {
          "base_uri": "https://localhost:8080/",
          "height": 592
        },
        "id": "pbAhVU7qkld4",
        "outputId": "f15839e7-7b68-4b78-8969-08e7a11c55b0"
      },
      "execution_count": null,
      "outputs": [
        {
          "output_type": "display_data",
          "data": {
            "image/png": "[encoded data removed]",
            "text/plain": [
              "<Figure size 720x720 with 2 Axes>"
            ]
          },
          "metadata": {
            "needs_background": "light"
          }
        }
      ]
    },
    {
      "cell_type": "markdown",
      "source": [
        "# Save results to CSV file"
      ],
      "metadata": {
        "id": "pD_Bcpw8gHSK"
      }
    },
    {
      "cell_type": "code",
      "source": [
        "df = pd.DataFrame(y_pred_prob[:,1])"
      ],
      "metadata": {
        "id": "9sEuKanTgKRv"
      },
      "execution_count": null,
      "outputs": []
    },
    {
      "cell_type": "code",
      "source": [
        "df.to_csv('result2.csv', index=False, header=False)"
      ],
      "metadata": {
        "id": "UynfotbSgM29"
      },
      "execution_count": null,
      "outputs": []
    }
  ]
}